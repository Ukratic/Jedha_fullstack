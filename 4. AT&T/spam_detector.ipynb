{
 "cells": [
  {
   "cell_type": "markdown",
   "metadata": {},
   "source": [
    "## AT&T Spam Detector\n",
    "Building a model to detect spams in text messages"
   ]
  },
  {
   "cell_type": "markdown",
   "metadata": {},
   "source": [
    "#### Importing libraries"
   ]
  },
  {
   "cell_type": "code",
   "execution_count": 1,
   "metadata": {},
   "outputs": [],
   "source": [
    "import pandas as pd\n",
    "import numpy as np\n",
    "import matplotlib.pyplot as plt\n",
    "import seaborn as sns\n",
    "\n",
    "import tensorflow as tf\n",
    "from sklearn.model_selection import train_test_split\n",
    "from sklearn.metrics import confusion_matrix,ConfusionMatrixDisplay,classification_report\n",
    "from sklearn.linear_model import LogisticRegression\n",
    "from sklearn.naive_bayes import MultinomialNB\n",
    "\n",
    "from tensorflow.keras.layers import Dense, Embedding, GlobalAveragePooling1D\n",
    "from tensorflow.keras import Sequential\n",
    "import tensorflow_hub as hub\n",
    "import tensorflow_text\n",
    "\n",
    "from transformers import AutoTokenizer, TFAutoModelForSequenceClassification"
   ]
  },
  {
   "cell_type": "markdown",
   "metadata": {},
   "source": [
    "#### I. Exploring the data"
   ]
  },
  {
   "cell_type": "code",
   "execution_count": 2,
   "metadata": {},
   "outputs": [
    {
     "data": {
      "text/html": [
       "<div>\n",
       "<style scoped>\n",
       "    .dataframe tbody tr th:only-of-type {\n",
       "        vertical-align: middle;\n",
       "    }\n",
       "\n",
       "    .dataframe tbody tr th {\n",
       "        vertical-align: top;\n",
       "    }\n",
       "\n",
       "    .dataframe thead th {\n",
       "        text-align: right;\n",
       "    }\n",
       "</style>\n",
       "<table border=\"1\" class=\"dataframe\">\n",
       "  <thead>\n",
       "    <tr style=\"text-align: right;\">\n",
       "      <th></th>\n",
       "      <th>v1</th>\n",
       "      <th>v2</th>\n",
       "      <th>Unnamed: 2</th>\n",
       "      <th>Unnamed: 3</th>\n",
       "      <th>Unnamed: 4</th>\n",
       "    </tr>\n",
       "  </thead>\n",
       "  <tbody>\n",
       "    <tr>\n",
       "      <th>count</th>\n",
       "      <td>5572</td>\n",
       "      <td>5572</td>\n",
       "      <td>50</td>\n",
       "      <td>12</td>\n",
       "      <td>6</td>\n",
       "    </tr>\n",
       "    <tr>\n",
       "      <th>unique</th>\n",
       "      <td>2</td>\n",
       "      <td>5169</td>\n",
       "      <td>43</td>\n",
       "      <td>10</td>\n",
       "      <td>5</td>\n",
       "    </tr>\n",
       "    <tr>\n",
       "      <th>top</th>\n",
       "      <td>ham</td>\n",
       "      <td>Sorry, I'll call later</td>\n",
       "      <td>bt not his girlfrnd... G o o d n i g h t . . .@\"</td>\n",
       "      <td>MK17 92H. 450Ppw 16\"</td>\n",
       "      <td>GNT:-)\"</td>\n",
       "    </tr>\n",
       "    <tr>\n",
       "      <th>freq</th>\n",
       "      <td>4825</td>\n",
       "      <td>30</td>\n",
       "      <td>3</td>\n",
       "      <td>2</td>\n",
       "      <td>2</td>\n",
       "    </tr>\n",
       "  </tbody>\n",
       "</table>\n",
       "</div>"
      ],
      "text/plain": [
       "          v1                      v2  \\\n",
       "count   5572                    5572   \n",
       "unique     2                    5169   \n",
       "top      ham  Sorry, I'll call later   \n",
       "freq    4825                      30   \n",
       "\n",
       "                                               Unnamed: 2  \\\n",
       "count                                                  50   \n",
       "unique                                                 43   \n",
       "top      bt not his girlfrnd... G o o d n i g h t . . .@\"   \n",
       "freq                                                    3   \n",
       "\n",
       "                   Unnamed: 3 Unnamed: 4  \n",
       "count                      12          6  \n",
       "unique                     10          5  \n",
       "top      MK17 92H. 450Ppw 16\"    GNT:-)\"  \n",
       "freq                        2          2  "
      ]
     },
     "execution_count": 2,
     "metadata": {},
     "output_type": "execute_result"
    }
   ],
   "source": [
    "df = pd.read_csv('data/spam.csv',encoding='ANSI')\n",
    "df.describe()"
   ]
  },
  {
   "cell_type": "markdown",
   "metadata": {},
   "source": [
    "The data is categorized \"ham\" (legitimate message) or \"spam\"."
   ]
  },
  {
   "cell_type": "code",
   "execution_count": 3,
   "metadata": {},
   "outputs": [
    {
     "data": {
      "text/html": [
       "<div>\n",
       "<style scoped>\n",
       "    .dataframe tbody tr th:only-of-type {\n",
       "        vertical-align: middle;\n",
       "    }\n",
       "\n",
       "    .dataframe tbody tr th {\n",
       "        vertical-align: top;\n",
       "    }\n",
       "\n",
       "    .dataframe thead th {\n",
       "        text-align: right;\n",
       "    }\n",
       "</style>\n",
       "<table border=\"1\" class=\"dataframe\">\n",
       "  <thead>\n",
       "    <tr style=\"text-align: right;\">\n",
       "      <th></th>\n",
       "      <th>v1</th>\n",
       "      <th>v2</th>\n",
       "    </tr>\n",
       "  </thead>\n",
       "  <tbody>\n",
       "    <tr>\n",
       "      <th>count</th>\n",
       "      <td>5572</td>\n",
       "      <td>5572</td>\n",
       "    </tr>\n",
       "    <tr>\n",
       "      <th>unique</th>\n",
       "      <td>2</td>\n",
       "      <td>5169</td>\n",
       "    </tr>\n",
       "    <tr>\n",
       "      <th>top</th>\n",
       "      <td>ham</td>\n",
       "      <td>Sorry, I'll call later</td>\n",
       "    </tr>\n",
       "    <tr>\n",
       "      <th>freq</th>\n",
       "      <td>4825</td>\n",
       "      <td>30</td>\n",
       "    </tr>\n",
       "  </tbody>\n",
       "</table>\n",
       "</div>"
      ],
      "text/plain": [
       "          v1                      v2\n",
       "count   5572                    5572\n",
       "unique     2                    5169\n",
       "top      ham  Sorry, I'll call later\n",
       "freq    4825                      30"
      ]
     },
     "metadata": {},
     "output_type": "display_data"
    },
    {
     "data": {
      "text/html": [
       "<div>\n",
       "<style scoped>\n",
       "    .dataframe tbody tr th:only-of-type {\n",
       "        vertical-align: middle;\n",
       "    }\n",
       "\n",
       "    .dataframe tbody tr th {\n",
       "        vertical-align: top;\n",
       "    }\n",
       "\n",
       "    .dataframe thead th {\n",
       "        text-align: right;\n",
       "    }\n",
       "</style>\n",
       "<table border=\"1\" class=\"dataframe\">\n",
       "  <thead>\n",
       "    <tr style=\"text-align: right;\">\n",
       "      <th></th>\n",
       "      <th>v1</th>\n",
       "      <th>v2</th>\n",
       "    </tr>\n",
       "  </thead>\n",
       "  <tbody>\n",
       "    <tr>\n",
       "      <th>0</th>\n",
       "      <td>ham</td>\n",
       "      <td>Go until jurong point, crazy.. Available only ...</td>\n",
       "    </tr>\n",
       "    <tr>\n",
       "      <th>1</th>\n",
       "      <td>ham</td>\n",
       "      <td>Ok lar... Joking wif u oni...</td>\n",
       "    </tr>\n",
       "    <tr>\n",
       "      <th>2</th>\n",
       "      <td>spam</td>\n",
       "      <td>Free entry in 2 a wkly comp to win FA Cup fina...</td>\n",
       "    </tr>\n",
       "    <tr>\n",
       "      <th>3</th>\n",
       "      <td>ham</td>\n",
       "      <td>U dun say so early hor... U c already then say...</td>\n",
       "    </tr>\n",
       "    <tr>\n",
       "      <th>4</th>\n",
       "      <td>ham</td>\n",
       "      <td>Nah I don't think he goes to usf, he lives aro...</td>\n",
       "    </tr>\n",
       "  </tbody>\n",
       "</table>\n",
       "</div>"
      ],
      "text/plain": [
       "     v1                                                 v2\n",
       "0   ham  Go until jurong point, crazy.. Available only ...\n",
       "1   ham                      Ok lar... Joking wif u oni...\n",
       "2  spam  Free entry in 2 a wkly comp to win FA Cup fina...\n",
       "3   ham  U dun say so early hor... U c already then say...\n",
       "4   ham  Nah I don't think he goes to usf, he lives aro..."
      ]
     },
     "metadata": {},
     "output_type": "display_data"
    }
   ],
   "source": [
    "# concatenating all text into one column and dropping the rest\n",
    "df['v2'] = df[df.columns[1:]].apply(lambda x: ','.join(x.dropna().astype(str)),axis=1)\n",
    "df = df.astype('string')\n",
    "df = df.drop(['Unnamed: 2', 'Unnamed: 3','Unnamed: 4'],axis=1)\n",
    "\n",
    "display(df.describe())\n",
    "display(df.head())"
   ]
  },
  {
   "cell_type": "markdown",
   "metadata": {},
   "source": [
    "We can notice the spelling particularities of this type of messaging. It is difficult to predict how this will affect our model, but presumably won't help."
   ]
  },
  {
   "cell_type": "code",
   "execution_count": 74,
   "metadata": {},
   "outputs": [
    {
     "data": {
      "image/png": "[encoded data removed]",
      "text/plain": [
       "<Figure size 432x288 with 1 Axes>"
      ]
     },
     "metadata": {
      "needs_background": "light"
     },
     "output_type": "display_data"
    }
   ],
   "source": [
    "sns.countplot(data=df,x='v1')\n",
    "plt.show()"
   ]
  },
  {
   "cell_type": "code",
   "execution_count": 75,
   "metadata": {},
   "outputs": [
    {
     "name": "stdout",
     "output_type": "stream",
     "text": [
      "13.41% of spams in data\n"
     ]
    }
   ],
   "source": [
    "print(f\"{round(df.v1.value_counts()[1]/len(df.v1)*100,2)}% of spams in data\")"
   ]
  },
  {
   "cell_type": "markdown",
   "metadata": {},
   "source": [
    "The data is imbalanced, but should still be a sufficient sample to get interesting results."
   ]
  },
  {
   "cell_type": "markdown",
   "metadata": {},
   "source": [
    "#### II. Preprocessing"
   ]
  },
  {
   "cell_type": "code",
   "execution_count": 4,
   "metadata": {},
   "outputs": [
    {
     "data": {
      "text/html": [
       "<div>\n",
       "<style scoped>\n",
       "    .dataframe tbody tr th:only-of-type {\n",
       "        vertical-align: middle;\n",
       "    }\n",
       "\n",
       "    .dataframe tbody tr th {\n",
       "        vertical-align: top;\n",
       "    }\n",
       "\n",
       "    .dataframe thead th {\n",
       "        text-align: right;\n",
       "    }\n",
       "</style>\n",
       "<table border=\"1\" class=\"dataframe\">\n",
       "  <thead>\n",
       "    <tr style=\"text-align: right;\">\n",
       "      <th></th>\n",
       "      <th>v1</th>\n",
       "      <th>v2</th>\n",
       "      <th>target</th>\n",
       "      <th>clean_text</th>\n",
       "    </tr>\n",
       "  </thead>\n",
       "  <tbody>\n",
       "    <tr>\n",
       "      <th>0</th>\n",
       "      <td>ham</td>\n",
       "      <td>Go until jurong point, crazy.. Available only ...</td>\n",
       "      <td>0</td>\n",
       "      <td>go until jurong point crazy available only in ...</td>\n",
       "    </tr>\n",
       "    <tr>\n",
       "      <th>1</th>\n",
       "      <td>ham</td>\n",
       "      <td>Ok lar... Joking wif u oni...</td>\n",
       "      <td>0</td>\n",
       "      <td>ok lar joking wif u oni</td>\n",
       "    </tr>\n",
       "    <tr>\n",
       "      <th>2</th>\n",
       "      <td>spam</td>\n",
       "      <td>Free entry in 2 a wkly comp to win FA Cup fina...</td>\n",
       "      <td>1</td>\n",
       "      <td>free entry in 2 a wkly comp to win fa cup fina...</td>\n",
       "    </tr>\n",
       "    <tr>\n",
       "      <th>3</th>\n",
       "      <td>ham</td>\n",
       "      <td>U dun say so early hor... U c already then say...</td>\n",
       "      <td>0</td>\n",
       "      <td>u dun say so early hor u c already then say</td>\n",
       "    </tr>\n",
       "    <tr>\n",
       "      <th>4</th>\n",
       "      <td>ham</td>\n",
       "      <td>Nah I don't think he goes to usf, he lives aro...</td>\n",
       "      <td>0</td>\n",
       "      <td>nah i don t think he goes to usf he lives arou...</td>\n",
       "    </tr>\n",
       "  </tbody>\n",
       "</table>\n",
       "</div>"
      ],
      "text/plain": [
       "     v1                                                 v2  target  \\\n",
       "0   ham  Go until jurong point, crazy.. Available only ...       0   \n",
       "1   ham                      Ok lar... Joking wif u oni...       0   \n",
       "2  spam  Free entry in 2 a wkly comp to win FA Cup fina...       1   \n",
       "3   ham  U dun say so early hor... U c already then say...       0   \n",
       "4   ham  Nah I don't think he goes to usf, he lives aro...       0   \n",
       "\n",
       "                                          clean_text  \n",
       "0  go until jurong point crazy available only in ...  \n",
       "1                           ok lar joking wif u oni   \n",
       "2  free entry in 2 a wkly comp to win fa cup fina...  \n",
       "3       u dun say so early hor u c already then say   \n",
       "4  nah i don t think he goes to usf he lives arou...  "
      ]
     },
     "execution_count": 4,
     "metadata": {},
     "output_type": "execute_result"
    }
   ],
   "source": [
    "df['target'] = df.v1.map({'ham':0,'spam':1}) # labeling our target into 0s and 1s\n",
    "\n",
    "df['clean_text'] = df['v2'].str.replace(r\"[\\W_]+\", \" \",regex=True)\n",
    "df['clean_text'] = df['clean_text'].fillna('').apply(lambda x: x.lower())\n",
    "\n",
    "df.head()"
   ]
  },
  {
   "cell_type": "code",
   "execution_count": 5,
   "metadata": {},
   "outputs": [],
   "source": [
    "# splitting usual \"X_train/val/test\" in 2 X sets : \"Encoded_p\" with encoded padding for logistic regression and simple embedding model, \"Raw\" text for BERT later\n",
    "# in this particular instance, doing this & multiplying variables won't be a memory issue since the dataset is so small\n",
    "\n",
    "Raw_train, Raw_test, y_train, y_test = train_test_split(df.clean_text, df.target, test_size=0.1, random_state=1,stratify=df.target)\n",
    "\n",
    "Raw_train, Raw_val, y_train, y_val = train_test_split(Raw_train, y_train, test_size=0.1, random_state=1,stratify=y_train)"
   ]
  },
  {
   "cell_type": "code",
   "execution_count": 6,
   "metadata": {},
   "outputs": [],
   "source": [
    "# encoding our text \n",
    "tokenizer = tf.keras.preprocessing.text.Tokenizer()\n",
    "tokenizer.fit_on_texts(Raw_train)\n",
    "Encoded_train = tokenizer.texts_to_sequences(Raw_train)\n",
    "Encoded_test = tokenizer.texts_to_sequences(Raw_test)\n",
    "Encoded_val = tokenizer.texts_to_sequences(Raw_val)\n",
    "\n",
    "# padding with a maxlen so all our sequences have the same length\n",
    "Encoded_p_train = tf.keras.preprocessing.sequence.pad_sequences(Encoded_train, maxlen=190, padding=\"post\")\n",
    "Encoded_p_test = tf.keras.preprocessing.sequence.pad_sequences(Encoded_test, maxlen=190, padding=\"post\")\n",
    "Encoded_p_val = tf.keras.preprocessing.sequence.pad_sequences(Encoded_val, maxlen=190, padding=\"post\")"
   ]
  },
  {
   "cell_type": "code",
   "execution_count": 7,
   "metadata": {},
   "outputs": [
    {
     "name": "stdout",
     "output_type": "stream",
     "text": [
      " The vocabulary has 7886 tokens and the longest message has 190\n"
     ]
    }
   ],
   "source": [
    "vocab_size = len(tokenizer.word_counts)\n",
    "max_len = max([len(sent) for sent in Encoded_train])\n",
    "print(f\" The vocabulary has {vocab_size} tokens and the longest message has {max_len}\")"
   ]
  },
  {
   "cell_type": "code",
   "execution_count": 82,
   "metadata": {},
   "outputs": [
    {
     "data": {
      "text/plain": [
       "array([  20,    4, 1126,  130,   84,    6,   42,  343,    0,    0,    0,\n",
       "          0,    0,    0,    0])"
      ]
     },
     "execution_count": 82,
     "metadata": {},
     "output_type": "execute_result"
    }
   ],
   "source": [
    "Encoded_p_train[0][:15]\n",
    "# padding added 0s so our sequences all have the same size"
   ]
  },
  {
   "cell_type": "code",
   "execution_count": 8,
   "metadata": {},
   "outputs": [],
   "source": [
    "# creating tf datasets from our splits, shuffling and making batches\n",
    "Enc_train_ds = tf.data.Dataset.from_tensor_slices((Encoded_p_train, y_train))\n",
    "Enc_test_ds = tf.data.Dataset.from_tensor_slices((Encoded_p_test, y_test))\n",
    "Enc_val_ds = tf.data.Dataset.from_tensor_slices((Encoded_p_val, y_val))\n",
    "\n",
    "Raw_train_ds = tf.data.Dataset.from_tensor_slices((Raw_train, y_train))\n",
    "Raw_test_ds = tf.data.Dataset.from_tensor_slices((Raw_test, y_test))\n",
    "Raw_val_ds = tf.data.Dataset.from_tensor_slices((Raw_val, y_val))\n",
    "\n",
    "Enc_train_ds = Enc_train_ds.shuffle(len(Enc_train_ds)).batch(64)\n",
    "Enc_test_ds = Enc_test_ds.shuffle(len(Enc_test_ds)).batch(64)\n",
    "Enc_val_ds = Enc_val_ds.shuffle(len(Enc_val_ds)).batch(64)\n",
    "\n",
    "Raw_train_ds = Raw_train_ds.shuffle(len(Raw_train_ds)).batch(64)\n",
    "Raw_test_ds = Raw_test_ds.shuffle(len(Raw_test_ds)).batch(64)\n",
    "Raw_val_ds = Raw_val_ds.shuffle(len(Raw_val_ds)).batch(64)"
   ]
  },
  {
   "cell_type": "markdown",
   "metadata": {},
   "source": [
    "#### III. Establishing a baseline"
   ]
  },
  {
   "cell_type": "code",
   "execution_count": 90,
   "metadata": {},
   "outputs": [
    {
     "name": "stdout",
     "output_type": "stream",
     "text": [
      "              precision    recall  f1-score   support\n",
      "\n",
      "           0       0.89      0.98      0.93       483\n",
      "           1       0.65      0.20      0.31        75\n",
      "\n",
      "    accuracy                           0.88       558\n",
      "   macro avg       0.77      0.59      0.62       558\n",
      "weighted avg       0.86      0.88      0.85       558\n",
      "\n"
     ]
    }
   ],
   "source": [
    "lr = LogisticRegression(max_iter=1500)\n",
    "lr.fit(Encoded_p_train,y_train)\n",
    "pred_logreg = lr.predict(Encoded_p_test)\n",
    "\n",
    "print(classification_report(y_test,pred_logreg))"
   ]
  },
  {
   "cell_type": "code",
   "execution_count": 91,
   "metadata": {},
   "outputs": [
    {
     "name": "stdout",
     "output_type": "stream",
     "text": [
      "              precision    recall  f1-score   support\n",
      "\n",
      "           0       0.94      0.88      0.91       483\n",
      "           1       0.45      0.64      0.53        75\n",
      "\n",
      "    accuracy                           0.85       558\n",
      "   macro avg       0.70      0.76      0.72       558\n",
      "weighted avg       0.87      0.85      0.86       558\n",
      "\n"
     ]
    }
   ],
   "source": [
    "nb = MultinomialNB()\n",
    "nb.fit(Encoded_p_train,y_train)\n",
    "nb_pred = nb.predict(Encoded_p_test)\n",
    "\n",
    "print(classification_report(y_test,nb_pred))"
   ]
  },
  {
   "cell_type": "markdown",
   "metadata": {},
   "source": [
    "A simple logistic regression stops a few spams, but it's not very satisfying. Multinomial Naive Bayes catches more, but also misidentifies more hams.<br>\n",
    "Both are not very useful in production but will provide a decent reference."
   ]
  },
  {
   "cell_type": "markdown",
   "metadata": {},
   "source": [
    "#### IV. A simple embedding"
   ]
  },
  {
   "cell_type": "code",
   "execution_count": 97,
   "metadata": {},
   "outputs": [
    {
     "name": "stdout",
     "output_type": "stream",
     "text": [
      "Model: \"sequential_2\"\n",
      "_________________________________________________________________\n",
      " Layer (type)                Output Shape              Param #   \n",
      "=================================================================\n",
      " embedding_2 (Embedding)     (None, None, 128)         1009536   \n",
      "                                                                 \n",
      " global_average_pooling1d_2   (None, 128)              0         \n",
      " (GlobalAveragePooling1D)                                        \n",
      "                                                                 \n",
      " dense_7 (Dense)             (None, 64)                8256      \n",
      "                                                                 \n",
      " dense_8 (Dense)             (None, 32)                2080      \n",
      "                                                                 \n",
      " dense_9 (Dense)             (None, 1)                 33        \n",
      "                                                                 \n",
      "=================================================================\n",
      "Total params: 1,019,905\n",
      "Trainable params: 1,019,905\n",
      "Non-trainable params: 0\n",
      "_________________________________________________________________\n"
     ]
    }
   ],
   "source": [
    "embedding_dim=128\n",
    "\n",
    "model_1 = Sequential([\n",
    "  Embedding(vocab_size+1, embedding_dim),\n",
    "  GlobalAveragePooling1D(), \n",
    "  Dense(64, activation='relu'), \n",
    "  Dense(32, activation='relu'),\n",
    "  Dense(1, activation=\"sigmoid\") \n",
    "])\n",
    "\n",
    "model_1.summary()"
   ]
  },
  {
   "cell_type": "code",
   "execution_count": 98,
   "metadata": {},
   "outputs": [
    {
     "name": "stdout",
     "output_type": "stream",
     "text": [
      "Epoch 1/15\n",
      "71/71 [==============================] - 1s 9ms/step - loss: 0.4820 - binary_accuracy: 0.8657 - val_loss: 0.3682 - val_binary_accuracy: 0.8665\n",
      "Epoch 2/15\n",
      "71/71 [==============================] - 1s 7ms/step - loss: 0.3511 - binary_accuracy: 0.8659 - val_loss: 0.3322 - val_binary_accuracy: 0.8665\n",
      "Epoch 3/15\n",
      "71/71 [==============================] - 1s 7ms/step - loss: 0.2606 - binary_accuracy: 0.8737 - val_loss: 0.1927 - val_binary_accuracy: 0.9203\n",
      "Epoch 4/15\n",
      "71/71 [==============================] - 1s 8ms/step - loss: 0.1013 - binary_accuracy: 0.9727 - val_loss: 0.0799 - val_binary_accuracy: 0.9761\n",
      "Epoch 5/15\n",
      "71/71 [==============================] - 1s 7ms/step - loss: 0.0358 - binary_accuracy: 0.9911 - val_loss: 0.0718 - val_binary_accuracy: 0.9761\n",
      "Epoch 6/15\n",
      "71/71 [==============================] - 1s 8ms/step - loss: 0.0243 - binary_accuracy: 0.9936 - val_loss: 0.0573 - val_binary_accuracy: 0.9861\n",
      "Epoch 7/15\n",
      "71/71 [==============================] - 1s 7ms/step - loss: 0.0181 - binary_accuracy: 0.9956 - val_loss: 0.0549 - val_binary_accuracy: 0.9861\n",
      "Epoch 8/15\n",
      "71/71 [==============================] - 1s 7ms/step - loss: 0.0127 - binary_accuracy: 0.9958 - val_loss: 0.0588 - val_binary_accuracy: 0.9821\n",
      "Epoch 9/15\n",
      "71/71 [==============================] - 1s 7ms/step - loss: 0.0109 - binary_accuracy: 0.9969 - val_loss: 0.0558 - val_binary_accuracy: 0.9841\n",
      "Epoch 10/15\n",
      "71/71 [==============================] - 0s 7ms/step - loss: 0.0082 - binary_accuracy: 0.9976 - val_loss: 0.0521 - val_binary_accuracy: 0.9861\n",
      "Epoch 11/15\n",
      "71/71 [==============================] - 1s 8ms/step - loss: 0.0075 - binary_accuracy: 0.9987 - val_loss: 0.0510 - val_binary_accuracy: 0.9841\n",
      "Epoch 12/15\n",
      "71/71 [==============================] - 0s 7ms/step - loss: 0.0056 - binary_accuracy: 0.9989 - val_loss: 0.0560 - val_binary_accuracy: 0.9880\n",
      "Epoch 13/15\n",
      "71/71 [==============================] - 1s 7ms/step - loss: 0.0046 - binary_accuracy: 0.9984 - val_loss: 0.0546 - val_binary_accuracy: 0.9861\n",
      "Epoch 14/15\n",
      "71/71 [==============================] - 1s 7ms/step - loss: 0.0039 - binary_accuracy: 0.9984 - val_loss: 0.0613 - val_binary_accuracy: 0.9880\n",
      "Epoch 15/15\n",
      "71/71 [==============================] - 1s 7ms/step - loss: 0.0031 - binary_accuracy: 0.9993 - val_loss: 0.0770 - val_binary_accuracy: 0.9861\n"
     ]
    }
   ],
   "source": [
    "# the adamax variant on the optimizer reportedly can achieve better performance in model with embeddings, but it wasn't the case with ours\n",
    "# we may have too little data to tweak our model to this level\n",
    "model_1.compile(optimizer='adam', loss=tf.keras.losses.BinaryCrossentropy(),metrics=tf.keras.metrics.BinaryAccuracy())\n",
    "hist = model_1.fit(Enc_train_ds,validation_data=Enc_val_ds,epochs=15)"
   ]
  },
  {
   "cell_type": "code",
   "execution_count": 103,
   "metadata": {},
   "outputs": [
    {
     "data": {
      "image/png": "[encoded data removed]",
      "text/plain": [
       "<Figure size 432x288 with 1 Axes>"
      ]
     },
     "metadata": {
      "needs_background": "light"
     },
     "output_type": "display_data"
    }
   ],
   "source": [
    "plt.plot(hist.epoch, hist.history[\"loss\"], 'g', label='Train loss')\n",
    "plt.plot(hist.epoch, hist.history[\"val_loss\"], 'b', label='Val loss')\n",
    "plt.gca().set(title='Training loss',xlabel='Epochs',ylabel='Loss')\n",
    "plt.legend()\n",
    "plt.show()"
   ]
  },
  {
   "cell_type": "code",
   "execution_count": 104,
   "metadata": {},
   "outputs": [
    {
     "data": {
      "image/png": "[encoded data removed]",
      "text/plain": [
       "<Figure size 432x288 with 1 Axes>"
      ]
     },
     "metadata": {
      "needs_background": "light"
     },
     "output_type": "display_data"
    }
   ],
   "source": [
    "plt.plot(hist.epoch, hist.history[\"binary_accuracy\"], 'g', label='Train accuracy')\n",
    "plt.plot(hist.epoch, hist.history[\"val_binary_accuracy\"], 'b', label='Val accuracy')\n",
    "plt.gca().set(title='Accuracy',xlabel='Epochs',ylabel='Accuracy')\n",
    "plt.legend()\n",
    "plt.show()"
   ]
  },
  {
   "cell_type": "markdown",
   "metadata": {},
   "source": [
    "The model trains really fast and more epochs don't improve performance ; it's already very high !"
   ]
  },
  {
   "cell_type": "code",
   "execution_count": 102,
   "metadata": {},
   "outputs": [
    {
     "name": "stdout",
     "output_type": "stream",
     "text": [
      "9/9 - 0s - loss: 0.0335 - binary_accuracy: 0.9892 - 22ms/epoch - 2ms/step\n",
      "Restored model, accuracy: 98.92%\n"
     ]
    }
   ],
   "source": [
    "# Save & restore model\n",
    "# model_1.save('./data/model_1.h5')\n",
    "model_1 = tf.keras.models.load_model('./data/model_1.h5')\n",
    "\n",
    "loss, acc = model_1.evaluate(Enc_test_ds, verbose=2)\n",
    "print(\"Restored model, accuracy: {:5.2f}%\".format(100 * acc))"
   ]
  },
  {
   "cell_type": "code",
   "execution_count": 100,
   "metadata": {},
   "outputs": [
    {
     "name": "stdout",
     "output_type": "stream",
     "text": [
      "18/18 [==============================] - 0s 880us/step\n",
      "              precision    recall  f1-score   support\n",
      "\n",
      "           0       0.99      1.00      0.99       483\n",
      "           1       1.00      0.92      0.96        75\n",
      "\n",
      "    accuracy                           0.99       558\n",
      "   macro avg       0.99      0.96      0.98       558\n",
      "weighted avg       0.99      0.99      0.99       558\n",
      "\n"
     ]
    }
   ],
   "source": [
    "predictions = model_1.predict(Encoded_p_test)\n",
    "predictions = predictions.reshape(-1)\n",
    "results_1 = pd.DataFrame({'test':y_test,'pred':predictions})\n",
    "results_1['pred'] = round(results_1['pred'])\n",
    "print(classification_report(results_1.test,results_1.pred))"
   ]
  },
  {
   "cell_type": "code",
   "execution_count": 101,
   "metadata": {},
   "outputs": [
    {
     "data": {
      "image/png": "[encoded data removed]",
      "text/plain": [
       "<Figure size 432x288 with 2 Axes>"
      ]
     },
     "metadata": {
      "needs_background": "light"
     },
     "output_type": "display_data"
    }
   ],
   "source": [
    "cm_test = confusion_matrix(results_1.test,results_1.pred)\n",
    "ConfusionMatrixDisplay(cm_test).plot()\n",
    "plt.show()"
   ]
  },
  {
   "cell_type": "markdown",
   "metadata": {},
   "source": [
    "This means that on our test sample, the model failed only 6 times to identify a spam (out of 75) and never flagged a ham as spam (out of 483 instances).<br>\n",
    "The performance is excellent and a clear improvement upon logistic regression : 92% of spams are blocked and zero legitimate messages are wrongly categorized as spams."
   ]
  },
  {
   "cell_type": "markdown",
   "metadata": {},
   "source": [
    "#### V. Importing a pre-trained model\n",
    "##### A) A small model pre-trained on text"
   ]
  },
  {
   "cell_type": "markdown",
   "metadata": {},
   "source": [
    "A look into BERT models' preprocessing"
   ]
  },
  {
   "cell_type": "code",
   "execution_count": 105,
   "metadata": {},
   "outputs": [
    {
     "name": "stdout",
     "output_type": "stream",
     "text": [
      "Keys       : ['input_word_ids', 'input_type_ids', 'input_mask']\n",
      "Shape      : (1, 128)\n",
      "Word Ids   : [  101  1057 24654  2360  2061  2220  7570  2099  1057  1039  2525  2059\n",
      "  2360   102     0     0     0     0     0     0]\n",
      "Input Mask : [1 1 1 1 1 1 1 1 1 1 1 1 1 1 0 0 0 0 0 0]\n",
      "Type Ids   : [0 0 0 0 0 0 0 0 0 0 0 0 0 0 0 0 0 0 0 0]\n"
     ]
    }
   ],
   "source": [
    "text_test = [df.clean_text[3]]\n",
    "bert_preprocessor = hub.KerasLayer(\"https://tfhub.dev/tensorflow/bert_en_uncased_preprocess/3\", name='preprocessing')\n",
    "text_preprocessed = bert_preprocessor(text_test)\n",
    "\n",
    "print(f'Keys       : {list(text_preprocessed.keys())}')\n",
    "print(f'Shape      : {text_preprocessed[\"input_word_ids\"].shape}')\n",
    "print(f'Word Ids   : {text_preprocessed[\"input_word_ids\"][0, :20]}')\n",
    "print(f'Input Mask : {text_preprocessed[\"input_mask\"][0, :20]}')\n",
    "print(f'Type Ids   : {text_preprocessed[\"input_type_ids\"][0, :20]}')"
   ]
  },
  {
   "cell_type": "code",
   "execution_count": 217,
   "metadata": {},
   "outputs": [],
   "source": [
    "def build_model_2():\n",
    "  text_input = tf.keras.layers.Input(shape=(), dtype=tf.string, name='text')\n",
    "  preprocessing_layer = bert_preprocessor\n",
    "  encoder_inputs = preprocessing_layer(text_input)\n",
    "  encoder = hub.KerasLayer('https://tfhub.dev/google/electra_small/2', trainable=False, name='Electra')\n",
    "  outputs = encoder(encoder_inputs)\n",
    "  out = outputs['pooled_output']\n",
    "  new = tf.keras.layers.Dense(64, activation='relu')(out)\n",
    "  new = tf.keras.layers.Dropout(0.1)(new)\n",
    "  clf = tf.keras.layers.Dense(1, activation='sigmoid', name='classifier')(new)\n",
    "  return tf.keras.Model(text_input, clf)\n",
    "\n",
    "# paper on ELECTRA : https://arxiv.org/abs/2003.10555"
   ]
  },
  {
   "cell_type": "code",
   "execution_count": 136,
   "metadata": {},
   "outputs": [
    {
     "name": "stdout",
     "output_type": "stream",
     "text": [
      "Model: \"model_4\"\n",
      "__________________________________________________________________________________________________\n",
      " Layer (type)                   Output Shape         Param #     Connected to                     \n",
      "==================================================================================================\n",
      " text (InputLayer)              [(None,)]            0           []                               \n",
      "                                                                                                  \n",
      " preprocessing (KerasLayer)     {'input_word_ids':   0           ['text[0][0]']                   \n",
      "                                (None, 128),                                                      \n",
      "                                 'input_type_ids':                                                \n",
      "                                (None, 128),                                                      \n",
      "                                 'input_mask': (Non                                               \n",
      "                                e, 128)}                                                          \n",
      "                                                                                                  \n",
      " Electra (KerasLayer)           {'pooled_output': (  13548801    ['preprocessing[3][0]',          \n",
      "                                None, 256),                       'preprocessing[3][1]',          \n",
      "                                 'sequence_output':               'preprocessing[3][2]']          \n",
      "                                 (None, 128, 256),                                                \n",
      "                                 'encoder_outputs':                                               \n",
      "                                 [(None, 128, 256),                                               \n",
      "                                 (None, 128, 256),                                                \n",
      "                                 (None, 128, 256),                                                \n",
      "                                 (None, 128, 256),                                                \n",
      "                                 (None, 128, 256),                                                \n",
      "                                 (None, 128, 256),                                                \n",
      "                                 (None, 128, 256),                                                \n",
      "                                 (None, 128, 256),                                                \n",
      "                                 (None, 128, 256),                                                \n",
      "                                 (None, 128, 256),                                                \n",
      "                                 (None, 128, 256),                                                \n",
      "                                 (None, 128, 256)],                                               \n",
      "                                 'default': (None,                                                \n",
      "                                256)}                                                             \n",
      "                                                                                                  \n",
      " dense_12 (Dense)               (None, 64)           16448       ['Electra[0][13]']               \n",
      "                                                                                                  \n",
      " dropout_4 (Dropout)            (None, 64)           0           ['dense_12[0][0]']               \n",
      "                                                                                                  \n",
      " classifier (Dense)             (None, 1)            65          ['dropout_4[0][0]']              \n",
      "                                                                                                  \n",
      "==================================================================================================\n",
      "Total params: 13,565,314\n",
      "Trainable params: 16,513\n",
      "Non-trainable params: 13,548,801\n",
      "__________________________________________________________________________________________________\n"
     ]
    }
   ],
   "source": [
    "model_2 = build_model_2()\n",
    "model_2.summary()"
   ]
  },
  {
   "cell_type": "code",
   "execution_count": 219,
   "metadata": {},
   "outputs": [
    {
     "name": "stdout",
     "output_type": "stream",
     "text": [
      "Epoch 1/5\n",
      "71/71 [==============================] - 140s 2s/step - loss: 0.2552 - binary_accuracy: 0.8994 - val_loss: 0.1112 - val_binary_accuracy: 0.9701\n",
      "Epoch 2/5\n",
      "71/71 [==============================] - 137s 2s/step - loss: 0.1079 - binary_accuracy: 0.9641 - val_loss: 0.0821 - val_binary_accuracy: 0.9741\n",
      "Epoch 3/5\n",
      "71/71 [==============================] - 138s 2s/step - loss: 0.0879 - binary_accuracy: 0.9710 - val_loss: 0.0753 - val_binary_accuracy: 0.9761\n",
      "Epoch 4/5\n",
      "71/71 [==============================] - 138s 2s/step - loss: 0.0802 - binary_accuracy: 0.9732 - val_loss: 0.0588 - val_binary_accuracy: 0.9861\n",
      "Epoch 5/5\n",
      "71/71 [==============================] - 138s 2s/step - loss: 0.0752 - binary_accuracy: 0.9725 - val_loss: 0.0563 - val_binary_accuracy: 0.9861\n"
     ]
    }
   ],
   "source": [
    "model_2.compile(optimizer='adam', loss=tf.keras.losses.BinaryCrossentropy(),metrics=tf.keras.metrics.BinaryAccuracy())\n",
    "hist = model_2.fit(x=Raw_train_ds,validation_data=Raw_val_ds,epochs=5)"
   ]
  },
  {
   "cell_type": "code",
   "execution_count": 220,
   "metadata": {},
   "outputs": [
    {
     "data": {
      "image/png": "[encoded data removed]",
      "text/plain": [
       "<Figure size 432x288 with 1 Axes>"
      ]
     },
     "metadata": {
      "needs_background": "light"
     },
     "output_type": "display_data"
    }
   ],
   "source": [
    "pd.DataFrame(hist.history).plot()\n",
    "plt.show()"
   ]
  },
  {
   "cell_type": "code",
   "execution_count": 142,
   "metadata": {},
   "outputs": [
    {
     "name": "stdout",
     "output_type": "stream",
     "text": [
      "9/9 - 14s - loss: 0.0783 - binary_accuracy: 0.9677 - 14s/epoch - 2s/step\n",
      "Restored model, accuracy: 96.77%\n"
     ]
    }
   ],
   "source": [
    "# model_2.save('./data/model_2.h5')\n",
    "model_2 = tf.keras.models.load_model('./data/model_2.h5',custom_objects={'KerasLayer':hub.KerasLayer})\n",
    "\n",
    "loss, acc = model_2.evaluate(Raw_test_ds, verbose=2)\n",
    "print(\"Restored model, accuracy: {:5.2f}%\".format(100 * acc))"
   ]
  },
  {
   "cell_type": "code",
   "execution_count": 140,
   "metadata": {},
   "outputs": [
    {
     "name": "stdout",
     "output_type": "stream",
     "text": [
      "18/18 [==============================] - 13s 654ms/step\n",
      "              precision    recall  f1-score   support\n",
      "\n",
      "           0       0.99      0.98      0.98       483\n",
      "           1       0.85      0.92      0.88        75\n",
      "\n",
      "    accuracy                           0.97       558\n",
      "   macro avg       0.92      0.95      0.93       558\n",
      "weighted avg       0.97      0.97      0.97       558\n",
      "\n"
     ]
    }
   ],
   "source": [
    "predictions = model_2.predict(Raw_test)\n",
    "predictions = predictions.reshape(-1)\n",
    "results_2 = pd.DataFrame({'test':y_test,'pred':predictions})\n",
    "results_2['pred'] = round(results_2['pred'])\n",
    "print(classification_report(results_2.test,results_2.pred))"
   ]
  },
  {
   "cell_type": "code",
   "execution_count": 141,
   "metadata": {},
   "outputs": [
    {
     "data": {
      "image/png": "[encoded data removed]",
      "text/plain": [
       "<Figure size 432x288 with 2 Axes>"
      ]
     },
     "metadata": {
      "needs_background": "light"
     },
     "output_type": "display_data"
    }
   ],
   "source": [
    "cm_test = confusion_matrix(results_2.test,results_2.pred)\n",
    "ConfusionMatrixDisplay(cm_test).plot()\n",
    "plt.show()"
   ]
  },
  {
   "cell_type": "markdown",
   "metadata": {},
   "source": [
    "The imported model gives decent results immediately after 1 epoch (naturally since it's already trained on other text data), but while it does a lot better than classification with logistic regression and multinomial naive bayes, it fails to improve upon our previous model (a tall order, admittedly).<br>\n",
    "The model is still improving so we could keep training and probably see some improvement or re-train the model entirely, but maybe our time would be better spent finding something already more suited to our task !"
   ]
  },
  {
   "cell_type": "markdown",
   "metadata": {},
   "source": [
    "##### B) A larger model pre-trained on this specific task"
   ]
  },
  {
   "cell_type": "code",
   "execution_count": 153,
   "metadata": {},
   "outputs": [
    {
     "data": {
      "application/vnd.jupyter.widget-view+json": {
       "model_id": "ceb3ea81768049f79318d4159a25d321",
       "version_major": 2,
       "version_minor": 0
      },
      "text/plain": [
       "Downloading:   0%|          | 0.00/499M [00:00<?, ?B/s]"
      ]
     },
     "metadata": {},
     "output_type": "display_data"
    },
    {
     "name": "stderr",
     "output_type": "stream",
     "text": [
      "Some weights of the PyTorch model were not used when initializing the TF 2.0 model TFRobertaForSequenceClassification: ['roberta.embeddings.position_ids']\n",
      "- This IS expected if you are initializing TFRobertaForSequenceClassification from a PyTorch model trained on another task or with another architecture (e.g. initializing a TFBertForSequenceClassification model from a BertForPreTraining model).\n",
      "- This IS NOT expected if you are initializing TFRobertaForSequenceClassification from a PyTorch model that you expect to be exactly identical (e.g. initializing a TFBertForSequenceClassification model from a BertForSequenceClassification model).\n",
      "All the weights of TFRobertaForSequenceClassification were initialized from the PyTorch model.\n",
      "If your task is similar to the task the model of the checkpoint was trained on, you can already use TFRobertaForSequenceClassification for predictions without further training.\n"
     ]
    }
   ],
   "source": [
    "tokenizer = AutoTokenizer.from_pretrained(\"mariagrandury/roberta-base-finetuned-sms-spam-detection\")\n",
    "model = TFAutoModelForSequenceClassification.from_pretrained(\"mariagrandury/roberta-base-finetuned-sms-spam-detection\",from_pt=True)\n",
    "\n",
    "# Reference : https://huggingface.co/mariagrandury/roberta-base-finetuned-sms-spam-detection"
   ]
  },
  {
   "cell_type": "code",
   "execution_count": 212,
   "metadata": {},
   "outputs": [],
   "source": [
    "inputs = tokenizer(list(Raw_test), return_tensors=\"tf\",padding=True)\n",
    "outputs = model(inputs)\n",
    "roberta_res = [np.argmax(x) for x in outputs[0]]"
   ]
  },
  {
   "cell_type": "code",
   "execution_count": 182,
   "metadata": {},
   "outputs": [
    {
     "name": "stdout",
     "output_type": "stream",
     "text": [
      "              precision    recall  f1-score   support\n",
      "\n",
      "           0       0.99      1.00      1.00       483\n",
      "           1       1.00      0.95      0.97        75\n",
      "\n",
      "    accuracy                           0.99       558\n",
      "   macro avg       1.00      0.97      0.98       558\n",
      "weighted avg       0.99      0.99      0.99       558\n",
      "\n"
     ]
    }
   ],
   "source": [
    "results_3 = pd.DataFrame({'test':y_test,'pred':roberta_res})\n",
    "print(classification_report(results_3.test,results_3.pred))"
   ]
  },
  {
   "cell_type": "code",
   "execution_count": 183,
   "metadata": {},
   "outputs": [
    {
     "data": {
      "image/png": "[encoded data removed]",
      "text/plain": [
       "<Figure size 432x288 with 2 Axes>"
      ]
     },
     "metadata": {
      "needs_background": "light"
     },
     "output_type": "display_data"
    }
   ],
   "source": [
    "cm_test = confusion_matrix(results_3.test,results_3.pred)\n",
    "ConfusionMatrixDisplay(cm_test).plot()\n",
    "plt.show()"
   ]
  },
  {
   "cell_type": "markdown",
   "metadata": {},
   "source": [
    "#### VI. Conclusion"
   ]
  },
  {
   "cell_type": "code",
   "execution_count": 214,
   "metadata": {},
   "outputs": [
    {
     "data": {
      "text/html": [
       "<div>\n",
       "<style scoped>\n",
       "    .dataframe tbody tr th:only-of-type {\n",
       "        vertical-align: middle;\n",
       "    }\n",
       "\n",
       "    .dataframe tbody tr th {\n",
       "        vertical-align: top;\n",
       "    }\n",
       "\n",
       "    .dataframe thead th {\n",
       "        text-align: right;\n",
       "    }\n",
       "</style>\n",
       "<table border=\"1\" class=\"dataframe\">\n",
       "  <thead>\n",
       "    <tr style=\"text-align: right;\">\n",
       "      <th></th>\n",
       "      <th>precision</th>\n",
       "      <th>recall</th>\n",
       "      <th>f1-score</th>\n",
       "    </tr>\n",
       "  </thead>\n",
       "  <tbody>\n",
       "    <tr>\n",
       "      <th>Logistic Regression</th>\n",
       "      <td>0.652174</td>\n",
       "      <td>0.200000</td>\n",
       "      <td>0.306122</td>\n",
       "    </tr>\n",
       "    <tr>\n",
       "      <th>Multinomial Naive Bayes</th>\n",
       "      <td>0.452830</td>\n",
       "      <td>0.640000</td>\n",
       "      <td>0.530387</td>\n",
       "    </tr>\n",
       "    <tr>\n",
       "      <th>Custom Embedding Model</th>\n",
       "      <td>1.000000</td>\n",
       "      <td>0.920000</td>\n",
       "      <td>0.958333</td>\n",
       "    </tr>\n",
       "    <tr>\n",
       "      <th>BERT-ELECTRA Model</th>\n",
       "      <td>0.851852</td>\n",
       "      <td>0.920000</td>\n",
       "      <td>0.884615</td>\n",
       "    </tr>\n",
       "    <tr>\n",
       "      <th>RoBERTa spam detection</th>\n",
       "      <td>1.000000</td>\n",
       "      <td>0.946667</td>\n",
       "      <td>0.972603</td>\n",
       "    </tr>\n",
       "  </tbody>\n",
       "</table>\n",
       "</div>"
      ],
      "text/plain": [
       "                         precision    recall  f1-score\n",
       "Logistic Regression       0.652174  0.200000  0.306122\n",
       "Multinomial Naive Bayes   0.452830  0.640000  0.530387\n",
       "Custom Embedding Model    1.000000  0.920000  0.958333\n",
       "BERT-ELECTRA Model        0.851852  0.920000  0.884615\n",
       "RoBERTa spam detection    1.000000  0.946667  0.972603"
      ]
     },
     "execution_count": 214,
     "metadata": {},
     "output_type": "execute_result"
    }
   ],
   "source": [
    "baseline_model_results = classification_report(y_test,pred_logreg, output_dict=True)\n",
    "model_nb_results = classification_report(y_test,nb_pred, output_dict=True)\n",
    "model_1_results = classification_report(results_1.test,results_1.pred, output_dict=True)\n",
    "model_2_results = classification_report(results_2.test,results_2.pred, output_dict=True)\n",
    "model_3_results = classification_report(results_3.test,results_3.pred, output_dict=True)\n",
    "  \n",
    "total_results = pd.DataFrame({'Logistic Regression':baseline_model_results['1'],\n",
    "                            'Multinomial Naive Bayes':model_nb_results['1'],\n",
    "                             'Custom Embedding Model':model_1_results['1'],\n",
    "                             'BERT-ELECTRA Model':model_2_results['1'],\n",
    "                             'RoBERTa spam detection':model_3_results['1']}).transpose()\n",
    "                             \n",
    "total_results.iloc[:,:3]"
   ]
  },
  {
   "cell_type": "markdown",
   "metadata": {},
   "source": [
    "The pre-trained RoBERTa was best ; a more sophisticated model with more training, it is the best solution to filter spams.<br>\n",
    "Implementing the model from the transformers library was exceedingly easy and efficient ; it is very useful to check if maybe someone has already done all the work for the task at hand !<br>\n",
    "The results are very promising and immediately useful, with only 5% of spams getting through.<br><br>\n",
    "\n",
    "Our custom (and very light) embedding model performed really well though, even if it is difficult to be absolutely sure that it would be able to generalize on a much larger amount of messages (and therefore variety of content) with the small amount of data at our disposal.<br>\n",
    "It shows that a bigger and more complicated structure is not always the solution. If the size of the model is an important parameter, our custom model would be ideal.\n",
    "\n",
    "<br>\n",
    "To improve further, we could combine our results with a list of phone numbers already identified as spam-senders to eliminate the few remaining spams, and/or try to identify other behavioral patterns not contained in the text (how many identical messages were sent, at what frequency...)."
   ]
  }
 ],
 "metadata": {
  "kernelspec": {
   "display_name": "Python 3.9.13 64-bit (microsoft store)",
   "language": "python",
   "name": "python3"
  },
  "language_info": {
   "codemirror_mode": {
    "name": "ipython",
    "version": 3
   },
   "file_extension": ".py",
   "mimetype": "text/x-python",
   "name": "python",
   "nbconvert_exporter": "python",
   "pygments_lexer": "ipython3",
   "version": "3.9.13"
  },
  "orig_nbformat": 4,
  "vscode": {
   "interpreter": {
    "hash": "ca585fe95be477a0c29b6da1540b202df0c520c5083081cb336e969485254a81"
   }
  }
 },
 "nbformat": 4,
 "nbformat_minor": 2
}
